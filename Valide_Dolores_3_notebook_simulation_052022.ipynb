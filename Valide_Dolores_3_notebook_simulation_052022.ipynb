{
 "cells": [
  {
   "cell_type": "markdown",
   "id": "0815a358",
   "metadata": {
    "toc": true
   },
   "source": [
    "<h1>Table of Contents<span class=\"tocSkip\"></span></h1>\n",
    "<div class=\"toc\"><ul class=\"toc-item\"><li><span><a href=\"#Initialisation-avec-un-an-de-données.\" data-toc-modified-id=\"Initialisation-avec-un-an-de-données.-1\"><span class=\"toc-item-num\">1&nbsp;&nbsp;</span>Initialisation avec un an de données.</a></span></li><li><span><a href=\"#Fonctions\" data-toc-modified-id=\"Fonctions-2\"><span class=\"toc-item-num\">2&nbsp;&nbsp;</span>Fonctions</a></span></li><li><span><a href=\"#Comparaison-des-modèles\" data-toc-modified-id=\"Comparaison-des-modèles-3\"><span class=\"toc-item-num\">3&nbsp;&nbsp;</span>Comparaison des modèles</a></span></li></ul></div>"
   ]
  },
  {
   "cell_type": "markdown",
   "id": "ba349dcb",
   "metadata": {},
   "source": [
    "# Simulation de fréquence "
   ]
  },
  {
   "cell_type": "code",
   "execution_count": 1,
   "id": "bdfd5b99",
   "metadata": {},
   "outputs": [
    {
     "data": {
      "text/html": [
       "        <script type=\"text/javascript\">\n",
       "        window.PlotlyConfig = {MathJaxConfig: 'local'};\n",
       "        if (window.MathJax) {MathJax.Hub.Config({SVG: {font: \"STIX-Web\"}});}\n",
       "        if (typeof require !== 'undefined') {\n",
       "        require.undef(\"plotly\");\n",
       "        requirejs.config({\n",
       "            paths: {\n",
       "                'plotly': ['https://cdn.plot.ly/plotly-2.9.0.min']\n",
       "            }\n",
       "        });\n",
       "        require(['plotly'], function(Plotly) {\n",
       "            window._Plotly = Plotly;\n",
       "        });\n",
       "        }\n",
       "        </script>\n",
       "        "
      ]
     },
     "metadata": {},
     "output_type": "display_data"
    },
    {
     "name": "stdout",
     "output_type": "stream",
     "text": [
      "Version des librairies utilisées :\n",
      "NumPy                 : 1.20.3\n",
      "Pandas                : 1.4.1\n",
      "Python                : 3.9.7 (default, Sep 16 2021, 16:59:28) [MSC v.1916 64 bit (AMD64)]\n",
      "Plotly                : 5.6.0\n",
      "Seaborn               : 0.11.2\n",
      "Sklearn               : 1.0.2\n"
     ]
    }
   ],
   "source": [
    "import numpy as np\n",
    "import pandas as pd\n",
    "import matplotlib.pyplot as plt\n",
    "from pandas.tseries.offsets import DateOffset\n",
    "import plotly\n",
    "from plotly.offline import init_notebook_mode\n",
    "import plotly.express as px\n",
    "import scipy\n",
    "from scipy import stats\n",
    "import seaborn as sns\n",
    "import sys\n",
    "import sklearn\n",
    "from sklearn import decomposition\n",
    "from sklearn.metrics.cluster import adjusted_rand_score \n",
    "import matplotlib.pyplot as plt\n",
    "from sklearn.preprocessing import StandardScaler\n",
    "from sklearn.cluster import KMeans\n",
    "\n",
    "\n",
    "import warnings\n",
    "warnings.simplefilter(action='ignore', category=FutureWarning)\n",
    "\n",
    "warnings.filterwarnings('ignore')\n",
    "init_notebook_mode(connected=True)\n",
    "pd.set_option('display.max_columns', 100)\n",
    "\n",
    "# Versions\n",
    "print('Version des librairies utilisées :')\n",
    "\n",
    "print('NumPy                 : ' + np.version.full_version)\n",
    "print('Pandas                : ' + pd.__version__)\n",
    "print('Python                : ' + sys.version)\n",
    "print('Plotly                : ' + plotly.__version__)\n",
    "print('Seaborn               : ' + sns.__version__)\n",
    "print('Sklearn               : ' + sklearn.__version__)"
   ]
  },
  {
   "cell_type": "code",
   "execution_count": 2,
   "id": "53a94126",
   "metadata": {},
   "outputs": [],
   "source": [
    "df = pd.read_csv(\"data_simulation.csv\")"
   ]
  },
  {
   "cell_type": "code",
   "execution_count": 3,
   "id": "b7d0a6e8",
   "metadata": {},
   "outputs": [
    {
     "data": {
      "text/html": [
       "<div>\n",
       "<style scoped>\n",
       "    .dataframe tbody tr th:only-of-type {\n",
       "        vertical-align: middle;\n",
       "    }\n",
       "\n",
       "    .dataframe tbody tr th {\n",
       "        vertical-align: top;\n",
       "    }\n",
       "\n",
       "    .dataframe thead th {\n",
       "        text-align: right;\n",
       "    }\n",
       "</style>\n",
       "<table border=\"1\" class=\"dataframe\">\n",
       "  <thead>\n",
       "    <tr style=\"text-align: right;\">\n",
       "      <th></th>\n",
       "      <th>customer_unique_id</th>\n",
       "      <th>recency</th>\n",
       "      <th>frequency</th>\n",
       "      <th>payment_value</th>\n",
       "      <th>review_score</th>\n",
       "      <th>order_purchase_timestamp</th>\n",
       "    </tr>\n",
       "  </thead>\n",
       "  <tbody>\n",
       "    <tr>\n",
       "      <th>0</th>\n",
       "      <td>0000366f3b9a7992bf8c76cfdf3221e2</td>\n",
       "      <td>111.0</td>\n",
       "      <td>1</td>\n",
       "      <td>141.90</td>\n",
       "      <td>5.0</td>\n",
       "      <td>2018-05-10 10:56:27</td>\n",
       "    </tr>\n",
       "    <tr>\n",
       "      <th>1</th>\n",
       "      <td>0000b849f77a49e4a4ce2b2a4ca5be3f</td>\n",
       "      <td>114.0</td>\n",
       "      <td>1</td>\n",
       "      <td>27.19</td>\n",
       "      <td>4.0</td>\n",
       "      <td>2018-05-07 11:11:27</td>\n",
       "    </tr>\n",
       "    <tr>\n",
       "      <th>2</th>\n",
       "      <td>0000f46a3911fa3c0805444483337064</td>\n",
       "      <td>536.0</td>\n",
       "      <td>1</td>\n",
       "      <td>86.22</td>\n",
       "      <td>3.0</td>\n",
       "      <td>2017-03-10 21:05:03</td>\n",
       "    </tr>\n",
       "    <tr>\n",
       "      <th>3</th>\n",
       "      <td>0000f6ccb0745a6a4b88665a16c9f078</td>\n",
       "      <td>320.0</td>\n",
       "      <td>1</td>\n",
       "      <td>43.62</td>\n",
       "      <td>4.0</td>\n",
       "      <td>2017-10-12 20:29:41</td>\n",
       "    </tr>\n",
       "    <tr>\n",
       "      <th>4</th>\n",
       "      <td>0004aac84e0df4da2b147fca70cf8255</td>\n",
       "      <td>287.0</td>\n",
       "      <td>1</td>\n",
       "      <td>196.89</td>\n",
       "      <td>5.0</td>\n",
       "      <td>2017-11-14 19:45:42</td>\n",
       "    </tr>\n",
       "  </tbody>\n",
       "</table>\n",
       "</div>"
      ],
      "text/plain": [
       "                 customer_unique_id  recency  frequency  payment_value  \\\n",
       "0  0000366f3b9a7992bf8c76cfdf3221e2    111.0          1         141.90   \n",
       "1  0000b849f77a49e4a4ce2b2a4ca5be3f    114.0          1          27.19   \n",
       "2  0000f46a3911fa3c0805444483337064    536.0          1          86.22   \n",
       "3  0000f6ccb0745a6a4b88665a16c9f078    320.0          1          43.62   \n",
       "4  0004aac84e0df4da2b147fca70cf8255    287.0          1         196.89   \n",
       "\n",
       "   review_score order_purchase_timestamp  \n",
       "0           5.0      2018-05-10 10:56:27  \n",
       "1           4.0      2018-05-07 11:11:27  \n",
       "2           3.0      2017-03-10 21:05:03  \n",
       "3           4.0      2017-10-12 20:29:41  \n",
       "4           5.0      2017-11-14 19:45:42  "
      ]
     },
     "execution_count": 3,
     "metadata": {},
     "output_type": "execute_result"
    }
   ],
   "source": [
    "df.head()"
   ]
  },
  {
   "cell_type": "code",
   "execution_count": 4,
   "id": "db2c2454",
   "metadata": {},
   "outputs": [],
   "source": [
    "df.drop(\"customer_unique_id\", axis = 1,inplace = True)"
   ]
  },
  {
   "cell_type": "code",
   "execution_count": 5,
   "id": "f550e78c",
   "metadata": {},
   "outputs": [
    {
     "name": "stdout",
     "output_type": "stream",
     "text": [
      "Date du dernier achat 2018-08-29 15:00:37\n",
      "Date du premier achat 2016-10-03 16:56:50\n"
     ]
    }
   ],
   "source": [
    "print(\"Date du dernier achat\", df.order_purchase_timestamp.max())\n",
    "print(\"Date du premier achat\", df.order_purchase_timestamp.min())"
   ]
  },
  {
   "cell_type": "code",
   "execution_count": 6,
   "id": "1743ef8b",
   "metadata": {},
   "outputs": [],
   "source": [
    "df.order_purchase_timestamp = df.order_purchase_timestamp.apply(pd.to_datetime, format='%Y-%m-%d')"
   ]
  },
  {
   "cell_type": "code",
   "execution_count": 7,
   "id": "47e2a34b",
   "metadata": {},
   "outputs": [],
   "source": [
    "df.order_purchase_timestamp = df.order_purchase_timestamp.apply(lambda x: x.date())"
   ]
  },
  {
   "cell_type": "markdown",
   "id": "35e5bdec",
   "metadata": {},
   "source": [
    "## Initialisation avec un an de données. \n",
    "\n",
    "**Période T0** = 12 mois\n"
   ]
  },
  {
   "cell_type": "code",
   "execution_count": 8,
   "id": "790376a3",
   "metadata": {},
   "outputs": [],
   "source": [
    "df0 = df[df.order_purchase_timestamp <= (df.order_purchase_timestamp.min() + DateOffset(years=1))]"
   ]
  },
  {
   "cell_type": "code",
   "execution_count": 9,
   "id": "e737051f",
   "metadata": {},
   "outputs": [],
   "source": [
    "df0 = df0.drop(\"order_purchase_timestamp\", axis = 1)\n",
    "\n",
    "#standardisation\n",
    "ss = StandardScaler()\n",
    "df0_scaled = pd.DataFrame(data= ss.fit_transform(df0), columns = df0.columns)\n",
    "\n",
    "#analyse en composantes principales pour réduction\n",
    "pca0 = decomposition.PCA(random_state = 42)\n",
    "pca0.fit(df0_scaled)\n",
    "projected0 = pca0.transform(df0_scaled)\n",
    "\n",
    "#on récupère les 3 eres composantes principales\n",
    "df0_scaled[\"PC1\"] =projected0[:,0]\n",
    "df0_scaled[\"PC2\"] = projected0[:,1]\n",
    "df0_scaled[\"PC3\"] = projected0[:,2]\n",
    "    \n",
    "df0_pca0 = df0_scaled[['PC1','PC2', 'PC3']]"
   ]
  },
  {
   "cell_type": "markdown",
   "id": "759a382b",
   "metadata": {},
   "source": [
    "## Fonctions"
   ]
  },
  {
   "cell_type": "code",
   "execution_count": 10,
   "id": "3a2c86ee",
   "metadata": {},
   "outputs": [],
   "source": [
    "def calc_period(data, nbdays):\n",
    "    '''\n",
    "    Fonction qui crée un dataframe avec 1 an + nbdays de données\n",
    "        Paramètre : \n",
    "            data : dataframe \n",
    "            nbdays : entier, nombre de jours à ajouter à 365 jours\n",
    "        Sortie : Dataframe de données sur l'intervalle de temps voulu\n",
    "        \n",
    "    '''\n",
    "    return data[data.order_purchase_timestamp <= (data.order_purchase_timestamp.min() + DateOffset(days=365+nbdays))]"
   ]
  },
  {
   "cell_type": "code",
   "execution_count": 11,
   "id": "5ac337c2",
   "metadata": {},
   "outputs": [],
   "source": [
    "def std_pca_data(df):\n",
    "    '''\n",
    "    Fonction qui standardise puis réalise une ACP et réduis à 3 composantes un Dataframe\n",
    "        Paramètres : \n",
    "            df : Dataframe \n",
    "        Sortie : \n",
    "            Dataframe standardisé et projeté sur ses 3 premières composantes principales \n",
    "    '''\n",
    "    df = df.drop(\"order_purchase_timestamp\", axis = 1)\n",
    "    #standardisation\n",
    "    ss = StandardScaler()\n",
    "    df_scaled = pd.DataFrame(data= ss.fit_transform(df), columns = df.columns)\n",
    "    #analyse en composantes principales pour réduction\n",
    "    pca = decomposition.PCA(random_state = 42)\n",
    "    pca.fit(df_scaled)\n",
    "    projected = pca.transform(df_scaled)\n",
    "    #on récupère les 3 eres composantes principales\n",
    "    df_projected = pd.DataFrame()\n",
    "    df_projected[\"PC1\"] =projected[:,0]\n",
    "    df_projected[\"PC2\"] = projected[:,1]\n",
    "    df_projected[\"PC3\"] = projected[:,2]\n",
    "    \n",
    "    #df_pca = df_scaled[['PC1','PC2', 'PC3']]\n",
    "    \n",
    "    return   df_projected, df_scaled   "
   ]
  },
  {
   "cell_type": "code",
   "execution_count": 12,
   "id": "cd3eba85",
   "metadata": {},
   "outputs": [],
   "source": [
    "def calcKmeans(df_pca): \n",
    "    '''\n",
    "    Applique la segmentation K-means sur un dataframe\n",
    "    \n",
    "        Paramètres : \n",
    "            df_pca: dataframe (réduis avec ACP idéalement) à segmenter\n",
    "        Sortie : \n",
    "            Liste des clusters calculés\n",
    "    '''\n",
    "    kmeans = KMeans(n_clusters = 5, random_state = 1).fit(df_pca)\n",
    "    #clusters = kmeans.predict(df_pca)\n",
    "    cluster_labels = kmeans.labels_\n",
    "    df_pca_km = df_pca.assign(Cluster = cluster_labels)\n",
    "    return  cluster_labels"
   ]
  },
  {
   "cell_type": "markdown",
   "id": "18383367",
   "metadata": {},
   "source": [
    "## Comparaison des modèles"
   ]
  },
  {
   "cell_type": "code",
   "execution_count": 13,
   "id": "8639b692",
   "metadata": {},
   "outputs": [],
   "source": [
    "ari_score = []\n",
    "for i in range(0,300,20):\n",
    "    \n",
    "    df_projected_i, df_scaled_i = std_pca_data(calc_period(df, i))\n",
    "\n",
    "    #On applique la PCA initiale sur la nouvelle période\n",
    "    projected_i0 = pca0.transform(df_scaled_i)\n",
    "    #on récupère les 3 eres composantes principales\n",
    "    df_projected_i0 = pd.DataFrame()\n",
    "    df_projected_i0[\"PC1\"] =projected_i0[:,0]\n",
    "    df_projected_i0[\"PC2\"] = projected_i0[:,1]\n",
    "    df_projected_i0[\"PC3\"] = projected_i0[:,2]\n",
    "    \n",
    "    #df_pca_k0 = df_scaled_k[['PC1','PC2', 'PC3']]\n",
    "    ari_i = adjusted_rand_score(calcKmeans(df_projected_i0),calcKmeans(df_projected_i))\n",
    "    \n",
    "    ari_score.append([i,ari_i])"
   ]
  },
  {
   "cell_type": "code",
   "execution_count": 14,
   "id": "b6d1ab13",
   "metadata": {},
   "outputs": [
    {
     "data": {
      "text/html": [
       "<div>\n",
       "<style scoped>\n",
       "    .dataframe tbody tr th:only-of-type {\n",
       "        vertical-align: middle;\n",
       "    }\n",
       "\n",
       "    .dataframe tbody tr th {\n",
       "        vertical-align: top;\n",
       "    }\n",
       "\n",
       "    .dataframe thead th {\n",
       "        text-align: right;\n",
       "    }\n",
       "</style>\n",
       "<table border=\"1\" class=\"dataframe\">\n",
       "  <thead>\n",
       "    <tr style=\"text-align: right;\">\n",
       "      <th></th>\n",
       "      <th>periode</th>\n",
       "      <th>ARI</th>\n",
       "    </tr>\n",
       "  </thead>\n",
       "  <tbody>\n",
       "    <tr>\n",
       "      <th>0</th>\n",
       "      <td>0</td>\n",
       "      <td>1.000000</td>\n",
       "    </tr>\n",
       "    <tr>\n",
       "      <th>1</th>\n",
       "      <td>20</td>\n",
       "      <td>0.968042</td>\n",
       "    </tr>\n",
       "    <tr>\n",
       "      <th>2</th>\n",
       "      <td>40</td>\n",
       "      <td>0.951876</td>\n",
       "    </tr>\n",
       "    <tr>\n",
       "      <th>3</th>\n",
       "      <td>60</td>\n",
       "      <td>0.974471</td>\n",
       "    </tr>\n",
       "    <tr>\n",
       "      <th>4</th>\n",
       "      <td>80</td>\n",
       "      <td>0.453088</td>\n",
       "    </tr>\n",
       "    <tr>\n",
       "      <th>5</th>\n",
       "      <td>100</td>\n",
       "      <td>0.465460</td>\n",
       "    </tr>\n",
       "    <tr>\n",
       "      <th>6</th>\n",
       "      <td>120</td>\n",
       "      <td>0.473730</td>\n",
       "    </tr>\n",
       "    <tr>\n",
       "      <th>7</th>\n",
       "      <td>140</td>\n",
       "      <td>0.480192</td>\n",
       "    </tr>\n",
       "    <tr>\n",
       "      <th>8</th>\n",
       "      <td>160</td>\n",
       "      <td>0.774463</td>\n",
       "    </tr>\n",
       "    <tr>\n",
       "      <th>9</th>\n",
       "      <td>180</td>\n",
       "      <td>0.855293</td>\n",
       "    </tr>\n",
       "    <tr>\n",
       "      <th>10</th>\n",
       "      <td>200</td>\n",
       "      <td>0.789732</td>\n",
       "    </tr>\n",
       "    <tr>\n",
       "      <th>11</th>\n",
       "      <td>220</td>\n",
       "      <td>0.939333</td>\n",
       "    </tr>\n",
       "    <tr>\n",
       "      <th>12</th>\n",
       "      <td>240</td>\n",
       "      <td>0.949294</td>\n",
       "    </tr>\n",
       "    <tr>\n",
       "      <th>13</th>\n",
       "      <td>260</td>\n",
       "      <td>0.950554</td>\n",
       "    </tr>\n",
       "    <tr>\n",
       "      <th>14</th>\n",
       "      <td>280</td>\n",
       "      <td>0.976619</td>\n",
       "    </tr>\n",
       "  </tbody>\n",
       "</table>\n",
       "</div>"
      ],
      "text/plain": [
       "    periode       ARI\n",
       "0         0  1.000000\n",
       "1        20  0.968042\n",
       "2        40  0.951876\n",
       "3        60  0.974471\n",
       "4        80  0.453088\n",
       "5       100  0.465460\n",
       "6       120  0.473730\n",
       "7       140  0.480192\n",
       "8       160  0.774463\n",
       "9       180  0.855293\n",
       "10      200  0.789732\n",
       "11      220  0.939333\n",
       "12      240  0.949294\n",
       "13      260  0.950554\n",
       "14      280  0.976619"
      ]
     },
     "execution_count": 14,
     "metadata": {},
     "output_type": "execute_result"
    }
   ],
   "source": [
    "ari_score = pd.DataFrame(ari_score, columns=[\"periode\", \"ARI\"] )\n",
    "ari_score"
   ]
  },
  {
   "cell_type": "code",
   "execution_count": 15,
   "id": "5259f5e7",
   "metadata": {
    "scrolled": true
   },
   "outputs": [
    {
     "data": {
      "image/png": "[encoded data removed]",
      "text/plain": [
       "<Figure size 864x576 with 1 Axes>"
      ]
     },
     "metadata": {
      "needs_background": "light"
     },
     "output_type": "display_data"
    }
   ],
   "source": [
    "# plot ARI Score\n",
    "fig = plt.figure(figsize=(12,8))\n",
    "sns.lineplot(data=ari_score, x=\"periode\", y=\"ARI\")\n",
    "\n",
    "plt.xlabel(\"Période (20 jours)\")\n",
    "plt.ylabel(\"Score ARI\")\n",
    "plt.title(\"Stabilité temporelle de la segmentation par K-Means\",\n",
    "          fontsize=18,\n",
    "          color=\"b\")\n",
    "plt.show()"
   ]
  },
  {
   "cell_type": "markdown",
   "id": "a984e59a",
   "metadata": {},
   "source": [
    "On remarque une stabilité jusqu'a 60 jours suivi d'une grosse chute du score ARI. \n",
    "On peut également observer une remontée autour des 150 jours qui peut eventuellemnt s'expliquer avec le cycle des commande vu dans l'analyse exploratoire.\n",
    "\n",
    "_________________________________________\n",
    "\n",
    "# FIN"
   ]
  }
 ],
 "metadata": {
  "kernelspec": {
   "display_name": "Python 3 (ipykernel)",
   "language": "python",
   "name": "python3"
  },
  "language_info": {
   "codemirror_mode": {
    "name": "ipython",
    "version": 3
   },
   "file_extension": ".py",
   "mimetype": "text/x-python",
   "name": "python",
   "nbconvert_exporter": "python",
   "pygments_lexer": "ipython3",
   "version": "3.9.7"
  },
  "toc": {
   "base_numbering": 1,
   "nav_menu": {},
   "number_sections": true,
   "sideBar": true,
   "skip_h1_title": true,
   "title_cell": "Table of Contents",
   "title_sidebar": "Contents",
   "toc_cell": true,
   "toc_position": {
    "height": "calc(100% - 180px)",
    "left": "10px",
    "top": "150px",
    "width": "187.102px"
   },
   "toc_section_display": true,
   "toc_window_display": true
  }
 },
 "nbformat": 4,
 "nbformat_minor": 5
}
